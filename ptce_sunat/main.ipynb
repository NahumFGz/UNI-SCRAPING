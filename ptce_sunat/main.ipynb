{
 "cells": [
  {
   "cell_type": "markdown",
   "metadata": {},
   "source": [
    "# A. Librerias y rutas"
   ]
  },
  {
   "cell_type": "code",
   "execution_count": 8,
   "metadata": {},
   "outputs": [],
   "source": [
    "import os\n",
    "import re\n",
    "import time\n",
    "import json\n",
    "import platform\n",
    "import unicodedata\n",
    "import pandas as pd\n",
    "from bs4 import BeautifulSoup\n",
    "from selenium import webdriver\n",
    "from selenium.webdriver.common.by import By\n",
    "from selenium.webdriver.chrome.service import Service\n",
    "from selenium.webdriver.support.ui import WebDriverWait\n",
    "from selenium.webdriver.support import expected_conditions as EC"
   ]
  },
  {
   "cell_type": "code",
   "execution_count": 9,
   "metadata": {},
   "outputs": [
    {
     "name": "stdout",
     "output_type": "stream",
     "text": [
      "ESTAMOS EN --->  darwin\n",
      "CHROME_DRIVER_PATH:  /Volumes/Projects/GitHubProjects/UNI-SCRAPING/chromedriver/darwin/chromedriver\n",
      "\n"
     ]
    }
   ],
   "source": [
    "# 1. Definir rutas y sistema operativo\n",
    "os_platform = platform.system().lower()\n",
    "\n",
    "# Definir la carpeta de descargas para los archivos JSON\n",
    "LOG_FILE_PATH = os.path.join(\"./scraping_log.txt\")\n",
    "\n",
    "# 2. Configurar rutas del proyecto según el sistema operativo\n",
    "if os_platform == \"darwin\":\n",
    "    CHROMEDRIVER_BASE_PATH = \"/Volumes/Projects/GitHubProjects/UNI-SCRAPING\"\n",
    "elif os_platform == \"windows\":\n",
    "    CHROMEDRIVER_BASE_PATH = \"D:\\\\GithubProjects\\\\Tesis\\\\Transparencia\"\n",
    "elif os_platform == \"linux\":\n",
    "    CHROMEDRIVER_BASE_PATH = \"/home/brew_test_gcp_01/Desktop/WallyScraper\"\n",
    "\n",
    "if os_platform == \"darwin\":\n",
    "    CHROMEDRIVER_PATH = os.path.join(CHROMEDRIVER_BASE_PATH, \"chromedriver\", \"darwin\", \"chromedriver\")\n",
    "elif os_platform == \"windows\":\n",
    "    CHROMEDRIVER_PATH = os.path.join(CHROMEDRIVER_BASE_PATH, \"chromedriver\", \"windows\", \"chromedriver.exe\")\n",
    "elif os_platform == \"linux\":\n",
    "    CHROMEDRIVER_PATH = os.path.join(CHROMEDRIVER_BASE_PATH, \"chromedriver\", \"linux\", \"chromedriver\")\n",
    "\n",
    "\n",
    "# 3. Imprimir variables\n",
    "print(\"ESTAMOS EN ---> \", os_platform)\n",
    "print(\"CHROME_DRIVER_PATH: \", CHROMEDRIVER_PATH)\n",
    "print(\"\")"
   ]
  },
  {
   "cell_type": "markdown",
   "metadata": {},
   "source": [
    "# B. Funciones"
   ]
  },
  {
   "cell_type": "code",
   "execution_count": 10,
   "metadata": {},
   "outputs": [],
   "source": [
    "def get_chrome_driver(chromedriver_path, print_view=False, headless=False):\n",
    "    # Configurar las opciones de Selenium\n",
    "    options = webdriver.ChromeOptions()\n",
    "    options.add_argument(\"--no-sandbox\")\n",
    "    options.add_argument(\"--start-maximized\")\n",
    "    options.add_argument(\"--disable-dev-shm-usage\")\n",
    "    options.add_argument(\"--ignore-certificate-errors\")\n",
    "\n",
    "    # Argumentos opcionales\n",
    "    if print_view:\n",
    "        options.add_argument(\"--disable-print-preview\")\n",
    "    if headless:\n",
    "        options.add_argument(\"--headless=new\")\n",
    "\n",
    "    # Configurar el servicio del driver\n",
    "    service = Service(executable_path=chromedriver_path)\n",
    "    driver = webdriver.Chrome(service=service, options=options)\n",
    "    \n",
    "    return driver\n",
    "\n",
    "def read_last_position():\n",
    "    if os.path.exists(LOG_FILE_PATH):\n",
    "        with open(LOG_FILE_PATH, 'r') as log_file:\n",
    "            last_position = log_file.read()\n",
    "            return int(last_position) if last_position.isdigit() else 0\n",
    "    return 0\n",
    "\n",
    "def write_last_position(position):\n",
    "    with open(LOG_FILE_PATH, 'w') as log_file:\n",
    "        log_file.write(str(position))\n",
    "\n",
    "def to_snake_case(s):\n",
    "    # Eliminar tildes\n",
    "    s = ''.join(c for c in unicodedata.normalize('NFD', s) if unicodedata.category(c) != 'Mn')\n",
    "    # Eliminar caracteres no alfanuméricos y reemplazar espacios con '_'\n",
    "    s = re.sub(r'[^\\w\\s]', '', s).strip()  # Quitar caracteres especiales\n",
    "    s = re.sub(r'\\s+', '_', s.lower())  # Reemplazar múltiples espacios con '_', y convertir a minúsculas\n",
    "    return s"
   ]
  },
  {
   "cell_type": "markdown",
   "metadata": {},
   "source": [
    "# C. Prueba"
   ]
  },
  {
   "cell_type": "code",
   "execution_count": 26,
   "metadata": {},
   "outputs": [],
   "source": [
    "driver = get_chrome_driver(chromedriver_path=CHROMEDRIVER_PATH, print_view=False, headless=False)"
   ]
  },
  {
   "cell_type": "code",
   "execution_count": 27,
   "metadata": {},
   "outputs": [],
   "source": [
    "url = 'https://e-consultaruc.sunat.gob.pe/cl-ti-itmrconsruc/FrameCriterioBusquedaWeb.jsp'\n",
    "driver.get(url)"
   ]
  },
  {
   "cell_type": "code",
   "execution_count": 29,
   "metadata": {},
   "outputs": [],
   "source": [
    "# Ingresar el RUC en el campo de texto con By.ID, \"txtRuc\"\n",
    "driver.find_element(By.ID, \"txtRuc\").send_keys(\"10000002858\")"
   ]
  },
  {
   "cell_type": "code",
   "execution_count": 30,
   "metadata": {},
   "outputs": [],
   "source": [
    "# Click en el botón con By.ID, \"btnAceptar\"\n",
    "driver.find_element(By.ID, \"btnAceptar\").click()"
   ]
  },
  {
   "cell_type": "code",
   "execution_count": 31,
   "metadata": {},
   "outputs": [],
   "source": [
    "# Extraer el html de la página\n",
    "html = driver.page_source\n",
    "soup = BeautifulSoup(html, 'html.parser')\n",
    "# soup"
   ]
  },
  {
   "cell_type": "code",
   "execution_count": 32,
   "metadata": {},
   "outputs": [],
   "source": [
    "driver.quit()"
   ]
  },
  {
   "cell_type": "markdown",
   "metadata": {},
   "source": [
    "# D. Automatizar"
   ]
  },
  {
   "cell_type": "code",
   "execution_count": 11,
   "metadata": {},
   "outputs": [],
   "source": [
    "def scrape_ruc(driver, ruc):\n",
    "    url = 'https://e-consultaruc.sunat.gob.pe/cl-ti-itmrconsruc/FrameCriterioBusquedaWeb.jsp'\n",
    "    driver.get(url)\n",
    "    \n",
    "    try:\n",
    "        # Ingresar el RUC en el campo de texto\n",
    "        ruc_input = WebDriverWait(driver, 10).until(\n",
    "            EC.visibility_of_element_located((By.ID, \"txtRuc\"))\n",
    "        )\n",
    "        ruc_input.clear()\n",
    "        ruc_input.send_keys(ruc)\n",
    "        \n",
    "        # Hacer clic en el botón \"Buscar\"\n",
    "        search_button = WebDriverWait(driver, 10).until(\n",
    "            EC.element_to_be_clickable((By.ID, \"btnAceptar\"))\n",
    "        )\n",
    "        search_button.click()\n",
    "        time.sleep(2)  # Esperar un momento para que se cargue la página\n",
    "        \n",
    "        # Leer el HTML actual\n",
    "        html = driver.page_source\n",
    "        soup = BeautifulSoup(html, 'html.parser')\n",
    "        \n",
    "        # Extraer la información de la búsqueda\n",
    "        panel_div = soup.find('div', class_='panel panel-primary')\n",
    "        data = {}\n",
    "        if panel_div:\n",
    "            resultado_busqueda = panel_div.find('div', class_='panel-heading').get_text(strip=True)\n",
    "            data[to_snake_case(\"Resultado de la Búsqueda\")] = resultado_busqueda.strip()\n",
    "            \n",
    "            items = panel_div.find_all('div', class_='list-group-item')\n",
    "            for item in items:\n",
    "                row = item.find('div', class_='row')\n",
    "                if row:\n",
    "                    label_div = row.find('div', class_='col-sm-5')\n",
    "                    value_div = row.find('div', class_='col-sm-7')\n",
    "                    \n",
    "                    if label_div and value_div:\n",
    "                        label = to_snake_case(label_div.get_text(strip=True))\n",
    "                        value = value_div.get_text(strip=True).strip()\n",
    "                        data[label] = value\n",
    "                    \n",
    "                    col_sm3_items = row.find_all('div', class_='col-sm-3')\n",
    "                    if len(col_sm3_items) == 4:\n",
    "                        label_inscripcion = to_snake_case(col_sm3_items[0].get_text(strip=True))\n",
    "                        fecha_inscripcion = col_sm3_items[1].get_text(strip=True).strip()\n",
    "                        data[label_inscripcion] = fecha_inscripcion\n",
    "                        \n",
    "                        label_inicio = to_snake_case(col_sm3_items[2].get_text(strip=True))\n",
    "                        fecha_inicio = col_sm3_items[3].get_text(strip=True).strip()\n",
    "                        data[label_inicio] = fecha_inicio\n",
    "        else:\n",
    "            print(f\"No se encontró el panel para RUC {ruc}\")\n",
    "        \n",
    "        return data\n",
    "    \n",
    "    except Exception as e:\n",
    "        print(f\"Error durante la operación con RUC {ruc}: {e}\")\n",
    "        return None"
   ]
  },
  {
   "cell_type": "code",
   "execution_count": 12,
   "metadata": {},
   "outputs": [],
   "source": [
    "with open('../data/ids.txt', 'r') as file:\n",
    "    rucs = file.read().splitlines()\n",
    "\n",
    "rucs = rucs[:4]"
   ]
  },
  {
   "cell_type": "code",
   "execution_count": 13,
   "metadata": {},
   "outputs": [
    {
     "name": "stdout",
     "output_type": "stream",
     "text": [
      "Datos de RUC 10000002858 guardados en record_0_data.json\n",
      "Datos de RUC 10000003412 guardados en record_1_data.json\n",
      "Datos de RUC 10000015968 guardados en record_2_data.json\n",
      "Datos de RUC 10000019581 guardados en record_3_data.json\n"
     ]
    }
   ],
   "source": [
    "driver = get_chrome_driver(chromedriver_path=CHROMEDRIVER_PATH, print_view=False, headless=False)\n",
    "\n",
    "for index, ruc in enumerate(rucs):\n",
    "    record_id = f\"record_{index}\"  # Generar un ID único basado en el índice\n",
    "    \n",
    "    # Scraping para cada RUC\n",
    "    data = scrape_ruc(driver, ruc)\n",
    "    \n",
    "    if data:\n",
    "        # Guardar en un archivo JSON en la carpeta ./results\n",
    "        file_name = f\"{record_id}_data.json\"\n",
    "        file_path = os.path.join(\"./results\", file_name)\n",
    "        os.makedirs(\"./results\", exist_ok=True)  # Asegurar que la carpeta exista\n",
    "        \n",
    "        with open(file_path, 'w', encoding='utf-8') as json_file:\n",
    "            json.dump(data, json_file, indent=4, ensure_ascii=False)\n",
    "        \n",
    "        print(f\"Datos de RUC {ruc} guardados en {file_name}\")\n",
    "    else:\n",
    "        print(f\"No se pudieron obtener datos para RUC {ruc}\")\n"
   ]
  },
  {
   "cell_type": "code",
   "execution_count": null,
   "metadata": {},
   "outputs": [],
   "source": []
  }
 ],
 "metadata": {
  "kernelspec": {
   "display_name": "venv_scrapping",
   "language": "python",
   "name": "python3"
  },
  "language_info": {
   "codemirror_mode": {
    "name": "ipython",
    "version": 3
   },
   "file_extension": ".py",
   "mimetype": "text/x-python",
   "name": "python",
   "nbconvert_exporter": "python",
   "pygments_lexer": "ipython3",
   "version": "3.13.1"
  }
 },
 "nbformat": 4,
 "nbformat_minor": 2
}
