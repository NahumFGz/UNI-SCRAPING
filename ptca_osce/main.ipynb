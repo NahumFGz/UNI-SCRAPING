{
 "cells": [
  {
   "cell_type": "markdown",
   "metadata": {},
   "source": [
    "# A. Librerias y datos"
   ]
  },
  {
   "cell_type": "code",
   "execution_count": 16,
   "metadata": {},
   "outputs": [],
   "source": [
    "import os\n",
    "import time\n",
    "import json\n",
    "import requests\n",
    "import pandas as pd"
   ]
  },
  {
   "cell_type": "code",
   "execution_count": 7,
   "metadata": {},
   "outputs": [
    {
     "data": {
      "text/plain": [
       "['10000002858', '10000003412', '10000015968', '10000019581']"
      ]
     },
     "execution_count": 7,
     "metadata": {},
     "output_type": "execute_result"
    }
   ],
   "source": [
    "with open('../data/ids.txt', 'r') as file:\n",
    "    ids = file.read().splitlines()\n",
    "\n",
    "ids[:4]"
   ]
  },
  {
   "cell_type": "markdown",
   "metadata": {},
   "source": [
    "# B. Probar algunos casos"
   ]
  },
  {
   "cell_type": "code",
   "execution_count": 8,
   "metadata": {},
   "outputs": [],
   "source": [
    "url_1 = 'https://eap.osce.gob.pe/perfilprov-bus/1.0/ficha/10000002858/contrataciones/'\n",
    "url_2 = 'https://eap.osce.gob.pe/perfilprov-bus/1.0/ficha/10000003412/contrataciones/'\n",
    "url_3 = 'https://eap.osce.gob.pe/perfilprov-bus/1.0/ficha/10000015968/contrataciones/'\n",
    "url_4 = 'https://eap.osce.gob.pe/perfilprov-bus/1.0/ficha/10000019581/contrataciones/'"
   ]
  },
  {
   "cell_type": "code",
   "execution_count": null,
   "metadata": {},
   "outputs": [
    {
     "name": "stdout",
     "output_type": "stream",
     "text": [
      "Guardado en results/contrataciones_1.json\n",
      "Guardado en results/contrataciones_2.json\n"
     ]
    }
   ],
   "source": [
    "\n",
    "response = requests.get(url_1)\n",
    "with open('results/contrataciones_1.json', 'w', encoding='utf-8') as file:\n",
    "    json.dump(response.json(), file, indent=4)\n",
    "    print(\"Guardado en results/contrataciones_1.json\")\n",
    "\n",
    "response = requests.get(url_2)\n",
    "with open('results/contrataciones_2.json', 'w', encoding='utf-8') as file:\n",
    "    json.dump(response.json(), file, indent=4)\n",
    "    print(\"Guardado en results/contrataciones_2.json\")\n",
    "\n",
    "response = requests.get(url_3)"
   ]
  },
  {
   "cell_type": "markdown",
   "metadata": {},
   "source": [
    "# C. Automatizar"
   ]
  },
  {
   "cell_type": "code",
   "execution_count": 23,
   "metadata": {},
   "outputs": [
    {
     "name": "stdout",
     "output_type": "stream",
     "text": [
      "Guardado en results/contrataciones_10000002858.json - 0 de 10\n",
      "Guardado en results/contrataciones_10000003412.json - 1 de 10\n",
      "Guardado en results/contrataciones_10000015968.json - 2 de 10\n",
      "Guardado en results/contrataciones_10000019581.json - 3 de 10\n",
      "Guardado en results/contrataciones_10000020040.json - 4 de 10\n",
      "Guardado en results/contrataciones_10000023871.json - 5 de 10\n",
      "Guardado en results/contrataciones_10000026137.json - 6 de 10\n",
      "Guardado en results/contrataciones_10000028644.json - 7 de 10\n",
      "Guardado en results/contrataciones_10000042299.json - 8 de 10\n",
      "Guardado en results/contrataciones_10000042531.json - 9 de 10\n"
     ]
    }
   ],
   "source": [
    "scrap_ids = ids[:10]\n",
    "\n",
    "i = 0\n",
    "for id in scrap_ids:\n",
    "    url = f'https://eap.osce.gob.pe/perfilprov-bus/1.0/ficha/{id}/contrataciones/'\n",
    "    response = requests.get(url)\n",
    "    with open(f'results/contrataciones_{id}.json', 'w', encoding='utf-8') as file:\n",
    "        json.dump(response.json(), file)\n",
    "        print(f\"Guardado en results/contrataciones_{id}.json - {i} de {len(scrap_ids)}\")\n",
    "        time.sleep(1)\n",
    "        i += 1"
   ]
  }
 ],
 "metadata": {
  "kernelspec": {
   "display_name": "venv_scrapping",
   "language": "python",
   "name": "python3"
  },
  "language_info": {
   "codemirror_mode": {
    "name": "ipython",
    "version": 3
   },
   "file_extension": ".py",
   "mimetype": "text/x-python",
   "name": "python",
   "nbconvert_exporter": "python",
   "pygments_lexer": "ipython3",
   "version": "3.13.1"
  }
 },
 "nbformat": 4,
 "nbformat_minor": 2
}
