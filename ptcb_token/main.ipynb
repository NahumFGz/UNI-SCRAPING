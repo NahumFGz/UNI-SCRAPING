{
 "cells": [
  {
   "cell_type": "markdown",
   "metadata": {},
   "source": [
    "# A. Librerias y datos"
   ]
  },
  {
   "cell_type": "code",
   "execution_count": 1,
   "metadata": {},
   "outputs": [],
   "source": [
    "import os\n",
    "import time\n",
    "import json\n",
    "import requests\n",
    "import pandas as pd"
   ]
  },
  {
   "cell_type": "markdown",
   "metadata": {},
   "source": [
    "# B. Probar chats"
   ]
  },
  {
   "cell_type": "code",
   "execution_count": 3,
   "metadata": {},
   "outputs": [],
   "source": [
    "ACCESS_TOKEN = 'YOUR_ACCESS_TOKEN'"
   ]
  },
  {
   "cell_type": "code",
   "execution_count": 4,
   "metadata": {},
   "outputs": [
    {
     "name": "stdout",
     "output_type": "stream",
     "text": [
      "{'count': 9, 'page_size': 30, 'results': [{'id': 30, 'chat_uuid': 'f4c34291-1bb5-47aa-9856-056ac7653c0b', 'title': None, 'user': 5, 'created_at': '2025-01-23T05:15:57.216699Z', 'updated_at': '2025-01-23T05:15:57.216717Z'}, {'id': 29, 'chat_uuid': '1e3f5876-2394-4121-8129-7d8b8178cda4', 'title': None, 'user': 5, 'created_at': '2025-01-17T18:01:02.617758Z', 'updated_at': '2025-01-17T18:01:02.617772Z'}, {'id': 28, 'chat_uuid': '078d7cd4-df94-4387-8ac9-789986659618', 'title': None, 'user': 5, 'created_at': '2025-01-17T18:00:51.148053Z', 'updated_at': '2025-01-17T18:00:51.148070Z'}, {'id': 26, 'chat_uuid': 'a72391cd-8bdb-470f-bfd2-07af63d763f9', 'title': None, 'user': 5, 'created_at': '2025-01-10T00:50:27.810777Z', 'updated_at': '2025-01-10T00:50:27.810796Z'}, {'id': 25, 'chat_uuid': 'e163256d-46c1-465d-adaf-c2fdfc9f36d3', 'title': None, 'user': 5, 'created_at': '2025-01-10T00:49:11.459261Z', 'updated_at': '2025-01-10T00:49:11.459280Z'}, {'id': 24, 'chat_uuid': 'f2a09da2-4d6c-42cf-81d7-95f55ea0744b', 'title': None, 'user': 5, 'created_at': '2025-01-10T00:40:18.208432Z', 'updated_at': '2025-01-10T00:40:18.208453Z'}, {'id': 23, 'chat_uuid': 'd93cefcf-63b5-48b3-a66e-80a8121ed34d', 'title': None, 'user': 5, 'created_at': '2025-01-10T00:39:59.175024Z', 'updated_at': '2025-01-10T00:39:59.175040Z'}, {'id': 20, 'chat_uuid': '18cb6180-3866-4073-9f6a-ae9463c46f3b', 'title': None, 'user': 5, 'created_at': '2025-01-10T00:32:55.424224Z', 'updated_at': '2025-01-10T00:32:55.424243Z'}, {'id': 19, 'chat_uuid': '1b624838-3859-4315-b803-10243e72e8c9', 'title': None, 'user': 5, 'created_at': '2025-01-10T00:32:19.247466Z', 'updated_at': '2025-01-10T00:32:19.247485Z'}]}\n"
     ]
    }
   ],
   "source": [
    "url = \"https://api.fullstackdemos.lat/api/chats/?page=1&page_size=30\"\n",
    "headers = {\n",
    "    \"accept\": \"application/json, text/plain, */*\",\n",
    "    \"authorization\": f\"Bearer {ACCESS_TOKEN}\",\n",
    "    \"user-agent\": \"Mozilla/5.0 (Macintosh; Intel Mac OS X 10_15_7) AppleWebKit/537.36 (KHTML, like Gecko) Chrome/133.0.0.0 Safari/537.36\"\n",
    "}\n",
    "\n",
    "response = requests.get(url, headers=headers)\n",
    "\n",
    "if response.status_code == 200:\n",
    "    data = response.json()\n",
    "    print(data)\n",
    "else:\n",
    "    print(f\"Error: {response.status_code}\")"
   ]
  },
  {
   "cell_type": "code",
   "execution_count": 6,
   "metadata": {},
   "outputs": [
    {
     "data": {
      "text/plain": [
       "{'count': 9,\n",
       " 'page_size': 30,\n",
       " 'results': [{'id': 30,\n",
       "   'chat_uuid': 'f4c34291-1bb5-47aa-9856-056ac7653c0b',\n",
       "   'title': None,\n",
       "   'user': 5,\n",
       "   'created_at': '2025-01-23T05:15:57.216699Z',\n",
       "   'updated_at': '2025-01-23T05:15:57.216717Z'},\n",
       "  {'id': 29,\n",
       "   'chat_uuid': '1e3f5876-2394-4121-8129-7d8b8178cda4',\n",
       "   'title': None,\n",
       "   'user': 5,\n",
       "   'created_at': '2025-01-17T18:01:02.617758Z',\n",
       "   'updated_at': '2025-01-17T18:01:02.617772Z'},\n",
       "  {'id': 28,\n",
       "   'chat_uuid': '078d7cd4-df94-4387-8ac9-789986659618',\n",
       "   'title': None,\n",
       "   'user': 5,\n",
       "   'created_at': '2025-01-17T18:00:51.148053Z',\n",
       "   'updated_at': '2025-01-17T18:00:51.148070Z'},\n",
       "  {'id': 26,\n",
       "   'chat_uuid': 'a72391cd-8bdb-470f-bfd2-07af63d763f9',\n",
       "   'title': None,\n",
       "   'user': 5,\n",
       "   'created_at': '2025-01-10T00:50:27.810777Z',\n",
       "   'updated_at': '2025-01-10T00:50:27.810796Z'},\n",
       "  {'id': 25,\n",
       "   'chat_uuid': 'e163256d-46c1-465d-adaf-c2fdfc9f36d3',\n",
       "   'title': None,\n",
       "   'user': 5,\n",
       "   'created_at': '2025-01-10T00:49:11.459261Z',\n",
       "   'updated_at': '2025-01-10T00:49:11.459280Z'},\n",
       "  {'id': 24,\n",
       "   'chat_uuid': 'f2a09da2-4d6c-42cf-81d7-95f55ea0744b',\n",
       "   'title': None,\n",
       "   'user': 5,\n",
       "   'created_at': '2025-01-10T00:40:18.208432Z',\n",
       "   'updated_at': '2025-01-10T00:40:18.208453Z'},\n",
       "  {'id': 23,\n",
       "   'chat_uuid': 'd93cefcf-63b5-48b3-a66e-80a8121ed34d',\n",
       "   'title': None,\n",
       "   'user': 5,\n",
       "   'created_at': '2025-01-10T00:39:59.175024Z',\n",
       "   'updated_at': '2025-01-10T00:39:59.175040Z'},\n",
       "  {'id': 20,\n",
       "   'chat_uuid': '18cb6180-3866-4073-9f6a-ae9463c46f3b',\n",
       "   'title': None,\n",
       "   'user': 5,\n",
       "   'created_at': '2025-01-10T00:32:55.424224Z',\n",
       "   'updated_at': '2025-01-10T00:32:55.424243Z'},\n",
       "  {'id': 19,\n",
       "   'chat_uuid': '1b624838-3859-4315-b803-10243e72e8c9',\n",
       "   'title': None,\n",
       "   'user': 5,\n",
       "   'created_at': '2025-01-10T00:32:19.247466Z',\n",
       "   'updated_at': '2025-01-10T00:32:19.247485Z'}]}"
      ]
     },
     "execution_count": 6,
     "metadata": {},
     "output_type": "execute_result"
    }
   ],
   "source": [
    "data"
   ]
  },
  {
   "cell_type": "markdown",
   "metadata": {},
   "source": [
    "# C. Listar mensajes"
   ]
  },
  {
   "cell_type": "code",
   "execution_count": 7,
   "metadata": {},
   "outputs": [],
   "source": [
    "chat_uuid = 'YOUR_CHAT_UUID'"
   ]
  },
  {
   "cell_type": "code",
   "execution_count": 10,
   "metadata": {},
   "outputs": [
    {
     "name": "stdout",
     "output_type": "stream",
     "text": [
      "[{'id': 123, 'chat_session': 19, 'sender_type': 'user', 'content': 'hola', 'timestamp': '2025-01-10T00:32:19.257704Z'}, {'id': 124, 'chat_session': 19, 'sender_type': 'system', 'content': '|   id |         ruc | nombre_empresa                                 | tipo_empresa     | tipo_contribuyente                  | fecha_de_inicio_de_actividades   |\\n|-----:|------------:|:-----------------------------------------------|:-----------------|:------------------------------------|:---------------------------------|\\n|    1 | 20131370645 | MINISTERIO DE ECONOMIA Y FINANZAS              | PERSONA JURIDICA | GOBIERNO CENTRAL                    | 1921-08-03 00:00:00              |\\n|    2 | 20414671773 | FONDO MIVIVIENDA S.A.                          | PERSONA JURIDICA | EMPRESA ESTATAL DE DERECHO PRIVADO  | 1998-09-01 00:00:00              |\\n|    3 | 20100128218 | PETROLEOS DEL PERU PETROPERU SA                | PERSONA JURIDICA | EMPRESA ESTATAL DE DERECHO PRIVADO  | 1969-07-24 00:00:00              |\\n|    4 | 20557410008 | METRO DE LIMA LINEA 2 S.A.                     | PERSONA JURIDICA | SOCIEDAD ANONIMA                    | 2014-04-16 00:00:00              |\\n|    5 | 20100047218 | BANCO DE CREDITO DEL PERU                      | PERSONA JURIDICA | SOCIEDAD ANONIMA                    | 1889-04-09 00:00:00              |\\n|    6 | 20100030595 | BANCO DE LA NACION                             | PERSONA JURIDICA | EMPRESA DE DERECHO PUBLICO          | 1966-01-01 00:00:00              |\\n|    7 | 20511004251 | CONCESIONARIA IIRSA NORTE S.A.                 | PERSONA JURIDICA | SOCIEDAD ANONIMA                    | 2005-07-14 00:00:00              |\\n|    8 | 20511130124 | INTERSUR CONCESIONES S.A.                      | PERSONA JURIDICA | SOCIEDAD ANONIMA                    | 2005-07-06 00:00:00              |\\n|    9 | 20109565017 | CONSTRUCCION Y ADMINISTRACION S.A.             | PERSONA JURIDICA | SOCIEDAD ANONIMA                    | 1992-04-14 00:00:00              |\\n|   10 | 20100003351 | SERVICIOS INDUSTRIALES DE LA MARINA S.A.       | PERSONA JURIDICA | SOCIEDAD ANONIMA                    | 1981-06-12 00:00:00              |\\n|   11 | 20511129975 | CONCESIONARIA INTEROCEANICA SUR - TRAMO 3 S.A. | PERSONA JURIDICA | SOCIEDAD ANONIMA                    | 2005-07-06 00:00:00              |\\n|   12 | 20289015699 | ORGANIZACION PANAMERICANA DE LA SALUD          | PERSONA JURIDICA | MISIONES DIPLOMATICAS Y ORG. INTER. | 1984-12-21 00:00:00              |\\n|   13 | 20100017491 | TELEFONICA DEL PERU SAA                        | PERSONA JURIDICA | SOCIEDAD ANONIMA ABIERTA            | 1920-06-25 00:00:00              |\\n|   14 | 20543011976 | TREN URBANO DE LIMA S.A.                       | PERSONA JURIDICA | SOCIEDAD ANONIMA                    | 2011-04-07 00:00:00              |\\n|   15 | 20511125040 | CONCESIONARIA INTEROCEANICA SUR - TRAMO 2 S.A. | PERSONA JURIDICA | SOCIEDAD ANONIMA                    | 2005-07-05 00:00:00              |\\n|   16 | 20100152356 | SERV AGUA POTAB Y ALCANT DE LIMA-SEDAPAL       | PERSONA JURIDICA | EMPRESA ESTATAL DE DERECHO PRIVADO  | 1981-06-16 00:00:00              |\\n|   17 | 20100127670 | PFIZER S A                                     | PERSONA JURIDICA | SOCIEDAD ANONIMA                    | 1965-07-22 00:00:00              |\\n|   18 | 20524191408 | CONSORCIO TREN ELECTRICO                       | PERSONA JURIDICA | CONTRATOS COLABORACION EMPRESARIAL  | 2009-12-10 00:00:00              |\\n|   19 | 20131257750 | SEGURO SOCIAL DE SALUD                         | PERSONA JURIDICA | INSTITUCIONES PUBLICAS              | 1936-08-12 00:00:00              |\\n|   20 | 20108068281 | CAJA DE PENSIONES MILITAR POLICIAL             | PERSONA JURIDICA | INSTITUCIONES PUBLICAS              | 1974-09-03 00:00:00              |', 'timestamp': '2025-01-10T00:32:20.713114Z'}]\n"
     ]
    }
   ],
   "source": [
    "url = f\"https://api.fullstackdemos.lat/api/messages/?chat_session__chat_uuid={chat_uuid}\"\n",
    "headers = {\n",
    "    \"accept\": \"application/json, text/plain, */*\",\n",
    "    \"authorization\": f\"Bearer {ACCESS_TOKEN}\",\n",
    "    \"user-agent\": \"Mozilla/5.0 (Macintosh; Intel Mac OS X 10_15_7) AppleWebKit/537.36 (KHTML, like Gecko) Chrome/133.0.0.0 Safari/537.36\"\n",
    "}\n",
    "\n",
    "response = requests.get(url, headers=headers)\n",
    "\n",
    "if response.status_code == 200:\n",
    "    data = response.json()\n",
    "    print(data)\n",
    "else:\n",
    "    print(f\"Error: {response.status_code}\")"
   ]
  },
  {
   "cell_type": "code",
   "execution_count": null,
   "metadata": {},
   "outputs": [],
   "source": []
  }
 ],
 "metadata": {
  "kernelspec": {
   "display_name": "venv_scrapping",
   "language": "python",
   "name": "python3"
  },
  "language_info": {
   "codemirror_mode": {
    "name": "ipython",
    "version": 3
   },
   "file_extension": ".py",
   "mimetype": "text/x-python",
   "name": "python",
   "nbconvert_exporter": "python",
   "pygments_lexer": "ipython3",
   "version": "3.13.1"
  }
 },
 "nbformat": 4,
 "nbformat_minor": 2
}
