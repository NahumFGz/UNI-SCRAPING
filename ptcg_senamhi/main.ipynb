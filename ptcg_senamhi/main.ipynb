{
 "cells": [
  {
   "cell_type": "markdown",
   "metadata": {},
   "source": [
    "# A. Librerias y rutas"
   ]
  },
  {
   "cell_type": "code",
   "execution_count": 1,
   "metadata": {},
   "outputs": [],
   "source": [
    "import os\n",
    "import time\n",
    "import json\n",
    "import platform\n",
    "from bs4 import BeautifulSoup\n",
    "from selenium import webdriver\n",
    "from selenium.webdriver.common.by import By\n",
    "from selenium.webdriver.chrome.service import Service\n",
    "from selenium.webdriver.support.ui import WebDriverWait\n",
    "from selenium.webdriver.support import expected_conditions as EC"
   ]
  },
  {
   "cell_type": "code",
   "execution_count": 2,
   "metadata": {},
   "outputs": [
    {
     "name": "stdout",
     "output_type": "stream",
     "text": [
      "ESTAMOS EN --->  darwin\n",
      "CHROME_DRIVER_PATH:  /Volumes/Projects/GitHubProjects/UNI-SCRAPING/chromedriver/darwin/chromedriver\n",
      "\n"
     ]
    }
   ],
   "source": [
    "# 1. Definir rutas y sistema operativo\n",
    "os_platform = platform.system().lower()\n",
    "\n",
    "# Definir la carpeta de descargas para los archivos JSON\n",
    "LOG_FILE_PATH = os.path.join(\"./scraping_log.txt\")\n",
    "\n",
    "# 2. Configurar rutas del proyecto según el sistema operativo\n",
    "if os_platform == \"darwin\":\n",
    "    CHROMEDRIVER_BASE_PATH = \"/Volumes/Projects/GitHubProjects/UNI-SCRAPING/chromedriver\"\n",
    "elif os_platform == \"linux\":\n",
    "    CHROMEDRIVER_BASE_PATH = \"/home/brew_test_gcp_01/Desktop/WallyScraper/chromedriver\"\n",
    "elif os_platform == \"windows\":\n",
    "    CHROMEDRIVER_BASE_PATH = \"D:\\\\GithubProjects\\\\Tesis\\\\Transparencia\\\\chromedriver\"\n",
    "\n",
    "if os_platform == \"darwin\":\n",
    "    CHROMEDRIVER_PATH = os.path.join(CHROMEDRIVER_BASE_PATH, \"darwin\", \"chromedriver\")\n",
    "elif os_platform == \"linux\":\n",
    "    CHROMEDRIVER_PATH = os.path.join(CHROMEDRIVER_BASE_PATH, \"linux\", \"chromedriver\")\n",
    "elif os_platform == \"windows\":\n",
    "    CHROMEDRIVER_PATH = os.path.join(CHROMEDRIVER_BASE_PATH, \"windows\", \"chromedriver.exe\")\n",
    "\n",
    "\n",
    "# 3. Imprimir variables\n",
    "print(\"ESTAMOS EN ---> \", os_platform)\n",
    "print(\"CHROME_DRIVER_PATH: \", CHROMEDRIVER_PATH)\n",
    "print(\"\")"
   ]
  },
  {
   "cell_type": "markdown",
   "metadata": {},
   "source": [
    "# B. Funciones"
   ]
  },
  {
   "cell_type": "code",
   "execution_count": 3,
   "metadata": {},
   "outputs": [],
   "source": [
    "def get_chrome_driver(chromedriver_path, print_view=False, headless=False):\n",
    "    # Configurar las opciones de Selenium\n",
    "    options = webdriver.ChromeOptions()\n",
    "    options.add_argument(\"--no-sandbox\")\n",
    "    options.add_argument(\"--start-maximized\")\n",
    "    options.add_argument(\"--disable-dev-shm-usage\")\n",
    "    options.add_argument(\"--ignore-certificate-errors\")\n",
    "\n",
    "    # Argumentos opcionales\n",
    "    if print_view:\n",
    "        options.add_argument(\"--disable-print-preview\")\n",
    "    if headless:\n",
    "        options.add_argument(\"--headless=new\")\n",
    "\n",
    "    # Configurar el servicio del driver\n",
    "    service = Service(executable_path=chromedriver_path)\n",
    "    driver = webdriver.Chrome(service=service, options=options)\n",
    "    \n",
    "    return driver"
   ]
  },
  {
   "cell_type": "markdown",
   "metadata": {},
   "source": [
    "# C. Prueba"
   ]
  },
  {
   "cell_type": "code",
   "execution_count": 16,
   "metadata": {},
   "outputs": [],
   "source": [
    "driver = get_chrome_driver(chromedriver_path=CHROMEDRIVER_PATH, print_view=False, headless=False)"
   ]
  },
  {
   "cell_type": "code",
   "execution_count": 17,
   "metadata": {},
   "outputs": [],
   "source": [
    "url = 'https://www.senamhi.gob.pe/mapas/mapa-estaciones-2/map_red_graf.php?cod=112163&estado=REAL&tipo_esta=M&cate=CO&cod_old='\n",
    "driver.get(url)"
   ]
  },
  {
   "cell_type": "code",
   "execution_count": 18,
   "metadata": {},
   "outputs": [],
   "source": [
    "# Click en el botón \"Tabla\" usando By.ID\n",
    "driver.find_element(By.ID, \"tabl\").click()"
   ]
  },
  {
   "cell_type": "code",
   "execution_count": 19,
   "metadata": {},
   "outputs": [
    {
     "name": "stdout",
     "output_type": "stream",
     "text": [
      "Captcha encontrado: Q5HPk5rP\n"
     ]
    }
   ],
   "source": [
    "# Extraer el html de la página\n",
    "html = driver.page_source\n",
    "soup = BeautifulSoup(html, 'html.parser')\n",
    "\n",
    "# Buscar el elemento del captcha por su tag y atributos característicos\n",
    "# Típicamente el captcha está en un span con estilo de color rojo y tamaño grande\n",
    "captcha_element = soup.find('span', {'style': 'color: red; font-size:xxx-large'})\n",
    "if captcha_element:\n",
    "    print(\"Captcha encontrado:\", captcha_element.text)\n",
    "else:\n",
    "    print(\"Captcha no encontrado\")\n"
   ]
  },
  {
   "cell_type": "code",
   "execution_count": 20,
   "metadata": {},
   "outputs": [],
   "source": [
    "# Encontrar el campo de entrada del captcha por su ID\n",
    "captcha_input = driver.find_element(By.ID, \"captchaInput\")\n",
    "\n",
    "# Ingresar el texto del captcha\n",
    "captcha_input.send_keys(captcha_element.text)"
   ]
  },
  {
   "cell_type": "code",
   "execution_count": 21,
   "metadata": {},
   "outputs": [],
   "source": [
    "# Click en el botón \"Verificar\" usando By.ID\n",
    "driver.find_element(By.ID, \"entrar\").click()"
   ]
  },
  {
   "cell_type": "code",
   "execution_count": 28,
   "metadata": {},
   "outputs": [],
   "source": [
    "driver.switch_to.frame(\"contenedor\")  # Asegúrate de usar el ID o nombre correcto"
   ]
  },
  {
   "cell_type": "code",
   "execution_count": 29,
   "metadata": {},
   "outputs": [],
   "source": [
    "driver.find_element(By.ID, \"export101\").click()"
   ]
  },
  {
   "cell_type": "code",
   "execution_count": 30,
   "metadata": {},
   "outputs": [],
   "source": [
    "driver.quit()"
   ]
  },
  {
   "cell_type": "markdown",
   "metadata": {},
   "source": [
    "# D. Automatizar"
   ]
  },
  {
   "cell_type": "code",
   "execution_count": 5,
   "metadata": {},
   "outputs": [
    {
     "data": {
      "text/plain": [
       "['https://www.senamhi.gob.pe/mapas/mapa-estaciones-2/map_red_graf.php?cod=221110&estado=REAL&tipo_esta=M&cate=CO&cod_old=',\n",
       " 'https://www.senamhi.gob.pe/mapas/mapa-estaciones-2/map_red_graf.php?cod=100113&estado=REAL&tipo_esta=M&cate=CO&cod_old=',\n",
       " 'https://www.senamhi.gob.pe/mapas/mapa-estaciones-2/map_red_graf.php?cod=106077&estado=REAL&tipo_esta=M&cate=CO&cod_old=',\n",
       " 'https://www.senamhi.gob.pe/mapas/mapa-estaciones-2/map_red_graf.php?cod=220405&estado=REAL&tipo_esta=M&cate=CO&cod_old=']"
      ]
     },
     "execution_count": 5,
     "metadata": {},
     "output_type": "execute_result"
    }
   ],
   "source": [
    "# leer ./results/urls.txt\n",
    "with open('./results/urls.txt', 'r') as f:\n",
    "    urls = f.readlines()\n",
    "\n",
    "urls = [url.strip() for url in urls[3:7]]\n",
    "urls"
   ]
  },
  {
   "cell_type": "code",
   "execution_count": 36,
   "metadata": {},
   "outputs": [
    {
     "name": "stdout",
     "output_type": "stream",
     "text": [
      "\n",
      "Procesando URL: https://www.senamhi.gob.pe/mapas/mapa-estaciones-2/map_red_graf.php?cod=221110&estado=REAL&tipo_esta=M&cate=CO&cod_old=\n",
      "\n",
      "Procesando URL: https://www.senamhi.gob.pe/mapas/mapa-estaciones-2/map_red_graf.php?cod=100113&estado=REAL&tipo_esta=M&cate=CO&cod_old=\n",
      "\n",
      "Procesando URL: https://www.senamhi.gob.pe/mapas/mapa-estaciones-2/map_red_graf.php?cod=106077&estado=REAL&tipo_esta=M&cate=CO&cod_old=\n",
      "\n",
      "Procesando URL: https://www.senamhi.gob.pe/mapas/mapa-estaciones-2/map_red_graf.php?cod=220405&estado=REAL&tipo_esta=M&cate=CO&cod_old=\n"
     ]
    }
   ],
   "source": [
    "# Procesar cada URL\n",
    "for url in urls:\n",
    "    try:\n",
    "        # Iniciar el driver\n",
    "        driver = get_chrome_driver(chromedriver_path=CHROMEDRIVER_PATH, print_view=False, headless=False)\n",
    "        print(f\"\\nProcesando URL: {url}\")\n",
    "        \n",
    "        # Cargar la página\n",
    "        driver.get(url)\n",
    "        time.sleep(5)\n",
    "        \n",
    "        # Click en el botón \"Tabla\"\n",
    "        driver.find_element(By.ID, \"tabl\").click()\n",
    "        time.sleep(3)\n",
    "        \n",
    "        # Extraer y procesar el captcha\n",
    "        html = driver.page_source\n",
    "        soup = BeautifulSoup(html, 'html.parser')\n",
    "        captcha_element = soup.find('span', {'style': 'color: red; font-size:xxx-large'})\n",
    "        \n",
    "        if captcha_element:\n",
    "            # Ingresar el captcha\n",
    "            captcha_input = driver.find_element(By.ID, \"captchaInput\")\n",
    "            captcha_input.send_keys(captcha_element.text)\n",
    "            time.sleep(3)\n",
    "            \n",
    "            # Verificar captcha\n",
    "            driver.find_element(By.ID, \"entrar\").click()\n",
    "            time.sleep(3)\n",
    "            \n",
    "            # Cambiar al frame y exportar\n",
    "            driver.switch_to.frame(\"contenedor\")\n",
    "            time.sleep(3)\n",
    "            driver.find_element(By.ID, \"export101\").click()\n",
    "            time.sleep(3)\n",
    "        \n",
    "        # Cerrar el driver\n",
    "        driver.quit()\n",
    "        \n",
    "        # Esperar antes de la siguiente URL\n",
    "        time.sleep(2)\n",
    "        \n",
    "    except Exception as e:\n",
    "        print(f\"Error procesando {url}: {str(e)}\")\n",
    "        if 'driver' in locals():\n",
    "            driver.quit()\n",
    "        time.sleep(2)\n",
    "        continue"
   ]
  },
  {
   "cell_type": "code",
   "execution_count": 6,
   "metadata": {},
   "outputs": [
    {
     "name": "stdout",
     "output_type": "stream",
     "text": [
      "\n",
      "Procesando URL: https://www.senamhi.gob.pe/mapas/mapa-estaciones-2/map_red_graf.php?cod=221110&estado=REAL&tipo_esta=M&cate=CO&cod_old=\n",
      "\n",
      "Procesando URL: https://www.senamhi.gob.pe/mapas/mapa-estaciones-2/map_red_graf.php?cod=100113&estado=REAL&tipo_esta=M&cate=CO&cod_old=\n",
      "\n",
      "Procesando URL: https://www.senamhi.gob.pe/mapas/mapa-estaciones-2/map_red_graf.php?cod=106077&estado=REAL&tipo_esta=M&cate=CO&cod_old=\n",
      "Error procesando https://www.senamhi.gob.pe/mapas/mapa-estaciones-2/map_red_graf.php?cod=106077&estado=REAL&tipo_esta=M&cate=CO&cod_old=: Alert Text: Captcha distinto.\n",
      "Message: unexpected alert open: {Alert text : Captcha distinto.}\n",
      "  (Session info: chrome=133.0.6943.54)\n",
      "Stacktrace:\n",
      "0   chromedriver                        0x00000001049bf94c cxxbridge1$str$ptr + 2728228\n",
      "1   chromedriver                        0x00000001049b7fa8 cxxbridge1$str$ptr + 2697088\n",
      "2   chromedriver                        0x000000010451dff0 cxxbridge1$string$len + 93348\n",
      "3   chromedriver                        0x00000001045a6788 cxxbridge1$string$len + 652348\n",
      "4   chromedriver                        0x0000000104559004 cxxbridge1$string$len + 335032\n",
      "5   chromedriver                        0x00000001049881f4 cxxbridge1$str$ptr + 2501068\n",
      "6   chromedriver                        0x000000010498b508 cxxbridge1$str$ptr + 2514144\n",
      "7   chromedriver                        0x000000010496d8a4 cxxbridge1$str$ptr + 2392188\n",
      "8   chromedriver                        0x000000010498bdb0 cxxbridge1$str$ptr + 2516360\n",
      "9   chromedriver                        0x000000010495e934 cxxbridge1$str$ptr + 2330892\n",
      "10  chromedriver                        0x00000001049a81e0 cxxbridge1$str$ptr + 2632120\n",
      "11  chromedriver                        0x00000001049a8368 cxxbridge1$str$ptr + 2632512\n",
      "12  chromedriver                        0x00000001049b7c1c cxxbridge1$str$ptr + 2696180\n",
      "13  libsystem_pthread.dylib             0x000000019c6732e4 _pthread_start + 136\n",
      "14  libsystem_pthread.dylib             0x000000019c66e0fc thread_start + 8\n",
      "\n",
      "\n",
      "Procesando URL: https://www.senamhi.gob.pe/mapas/mapa-estaciones-2/map_red_graf.php?cod=220405&estado=REAL&tipo_esta=M&cate=CO&cod_old=\n"
     ]
    }
   ],
   "source": [
    "# Procesar cada URL\n",
    "for url in urls:\n",
    "    try:\n",
    "        # Iniciar el driver\n",
    "        driver = get_chrome_driver(chromedriver_path=CHROMEDRIVER_PATH, print_view=False, headless=False)\n",
    "        print(f\"\\nProcesando URL: {url}\")\n",
    "        \n",
    "        # Configurar wait\n",
    "        wait = WebDriverWait(driver, 10)  # 10 segundos de timeout\n",
    "        \n",
    "        # Cargar la página\n",
    "        driver.get(url)\n",
    "        \n",
    "        # Click en el botón \"Tabla\" - esperar que sea clickeable\n",
    "        tabla_button = wait.until(EC.element_to_be_clickable((By.ID, \"tabl\")))\n",
    "        tabla_button.click()\n",
    "        \n",
    "        # Esperar que aparezca el captcha\n",
    "        captcha_element = wait.until(EC.presence_of_element_located((By.CSS_SELECTOR, 'span[style*=\"color: red\"][style*=\"font-size:xxx-large\"]')))\n",
    "        captcha_text = captcha_element.text\n",
    "        \n",
    "        if captcha_text:\n",
    "            # Ingresar el captcha - esperar que el input esté presente\n",
    "            captcha_input = wait.until(EC.presence_of_element_located((By.ID, \"captchaInput\")))\n",
    "            captcha_input.send_keys(captcha_text)\n",
    "            \n",
    "            # Verificar captcha - esperar que el botón sea clickeable\n",
    "            verify_button = wait.until(EC.element_to_be_clickable((By.ID, \"entrar\")))\n",
    "            verify_button.click()\n",
    "            \n",
    "            # Cambiar al frame - esperar que esté disponible\n",
    "            wait.until(EC.frame_to_be_available_and_switch_to_it(\"contenedor\"))\n",
    "            \n",
    "            # Esperar y hacer click en exportar\n",
    "            export_button = wait.until(EC.element_to_be_clickable((By.ID, \"export101\")))\n",
    "            export_button.click()\n",
    "            \n",
    "            # Pequeña pausa para asegurar que la descarga inicie\n",
    "            time.sleep(1)\n",
    "        \n",
    "        # Cerrar el driver\n",
    "        driver.quit()\n",
    "        \n",
    "        # Breve pausa entre URLs para evitar sobrecarga\n",
    "        time.sleep(1)\n",
    "        \n",
    "    except Exception as e:\n",
    "        print(f\"Error procesando {url}: {str(e)}\")\n",
    "        if 'driver' in locals():\n",
    "            driver.quit()\n",
    "        time.sleep(1)\n",
    "        continue"
   ]
  },
  {
   "cell_type": "code",
   "execution_count": null,
   "metadata": {},
   "outputs": [],
   "source": []
  }
 ],
 "metadata": {
  "kernelspec": {
   "display_name": "venv_scrapping",
   "language": "python",
   "name": "python3"
  },
  "language_info": {
   "codemirror_mode": {
    "name": "ipython",
    "version": 3
   },
   "file_extension": ".py",
   "mimetype": "text/x-python",
   "name": "python",
   "nbconvert_exporter": "python",
   "pygments_lexer": "ipython3",
   "version": "3.13.2"
  }
 },
 "nbformat": 4,
 "nbformat_minor": 2
}
