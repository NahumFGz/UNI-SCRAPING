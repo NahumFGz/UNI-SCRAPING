{
 "cells": [
  {
   "cell_type": "markdown",
   "metadata": {},
   "source": [
    "# A. Librerias y rutas"
   ]
  },
  {
   "cell_type": "code",
   "execution_count": 13,
   "metadata": {},
   "outputs": [],
   "source": [
    "import os\n",
    "import time\n",
    "import json\n",
    "import platform\n",
    "from bs4 import BeautifulSoup\n",
    "from selenium import webdriver\n",
    "from selenium.webdriver.common.by import By\n",
    "from selenium.webdriver.chrome.service import Service\n",
    "from selenium.webdriver.support.ui import WebDriverWait\n",
    "from selenium.webdriver.support import expected_conditions as EC"
   ]
  },
  {
   "cell_type": "code",
   "execution_count": 14,
   "metadata": {},
   "outputs": [
    {
     "name": "stdout",
     "output_type": "stream",
     "text": [
      "ESTAMOS EN --->  darwin\n",
      "CHROME_DRIVER_PATH:  /Volumes/Projects/GitHubProjects/UNI-SCRAPING/chromedriver/darwin/chromedriver\n",
      "\n"
     ]
    }
   ],
   "source": [
    "# 1. Definir rutas y sistema operativo\n",
    "os_platform = platform.system().lower()\n",
    "\n",
    "# Definir la carpeta de descargas para los archivos JSON\n",
    "LOG_FILE_PATH = os.path.join(\"./scraping_log.txt\")\n",
    "\n",
    "# 2. Configurar rutas del proyecto según el sistema operativo\n",
    "if os_platform == \"darwin\":\n",
    "    CHROMEDRIVER_BASE_PATH = \"/Volumes/Projects/GitHubProjects/UNI-SCRAPING/chromedriver\"\n",
    "elif os_platform == \"linux\":\n",
    "    CHROMEDRIVER_BASE_PATH = \"/home/brew_test_gcp_01/Desktop/WallyScraper/chromedriver\"\n",
    "elif os_platform == \"windows\":\n",
    "    CHROMEDRIVER_BASE_PATH = \"D:\\\\GithubProjects\\\\Tesis\\\\Transparencia\\\\chromedriver\"\n",
    "\n",
    "if os_platform == \"darwin\":\n",
    "    CHROMEDRIVER_PATH = os.path.join(CHROMEDRIVER_BASE_PATH, \"darwin\", \"chromedriver\")\n",
    "elif os_platform == \"linux\":\n",
    "    CHROMEDRIVER_PATH = os.path.join(CHROMEDRIVER_BASE_PATH, \"linux\", \"chromedriver\")\n",
    "elif os_platform == \"windows\":\n",
    "    CHROMEDRIVER_PATH = os.path.join(CHROMEDRIVER_BASE_PATH, \"windows\", \"chromedriver.exe\")\n",
    "\n",
    "\n",
    "# 3. Imprimir variables\n",
    "print(\"ESTAMOS EN ---> \", os_platform)\n",
    "print(\"CHROME_DRIVER_PATH: \", CHROMEDRIVER_PATH)\n",
    "print(\"\")"
   ]
  },
  {
   "cell_type": "markdown",
   "metadata": {},
   "source": [
    "# B. Funciones"
   ]
  },
  {
   "cell_type": "code",
   "execution_count": 15,
   "metadata": {},
   "outputs": [],
   "source": [
    "def get_chrome_driver(chromedriver_path, print_view=False, headless=False):\n",
    "    # Configurar las opciones de Selenium\n",
    "    options = webdriver.ChromeOptions()\n",
    "    options.add_argument(\"--no-sandbox\")\n",
    "    options.add_argument(\"--start-maximized\")\n",
    "    options.add_argument(\"--disable-dev-shm-usage\")\n",
    "    options.add_argument(\"--ignore-certificate-errors\")\n",
    "\n",
    "    # Argumentos opcionales\n",
    "    if print_view:\n",
    "        options.add_argument(\"--disable-print-preview\")\n",
    "    if headless:\n",
    "        options.add_argument(\"--headless=new\")\n",
    "\n",
    "    # Configurar el servicio del driver\n",
    "    service = Service(executable_path=chromedriver_path)\n",
    "    driver = webdriver.Chrome(service=service, options=options)\n",
    "    \n",
    "    return driver"
   ]
  },
  {
   "cell_type": "markdown",
   "metadata": {},
   "source": [
    "# C. Prueba"
   ]
  },
  {
   "cell_type": "code",
   "execution_count": 16,
   "metadata": {},
   "outputs": [],
   "source": [
    "driver = get_chrome_driver(chromedriver_path=CHROMEDRIVER_PATH, print_view=False, headless=False)"
   ]
  },
  {
   "cell_type": "code",
   "execution_count": 17,
   "metadata": {},
   "outputs": [],
   "source": [
    "url = 'https://www.senamhi.gob.pe/mapas/mapa-estaciones-2/map_red_graf.php?cod=112163&estado=REAL&tipo_esta=M&cate=CO&cod_old='\n",
    "driver.get(url)"
   ]
  },
  {
   "cell_type": "code",
   "execution_count": 18,
   "metadata": {},
   "outputs": [],
   "source": [
    "# Click en el botón \"Tabla\" usando By.ID\n",
    "driver.find_element(By.ID, \"tabl\").click()"
   ]
  },
  {
   "cell_type": "code",
   "execution_count": 19,
   "metadata": {},
   "outputs": [
    {
     "name": "stdout",
     "output_type": "stream",
     "text": [
      "Captcha encontrado: Q5HPk5rP\n"
     ]
    }
   ],
   "source": [
    "# Extraer el html de la página\n",
    "html = driver.page_source\n",
    "soup = BeautifulSoup(html, 'html.parser')\n",
    "\n",
    "# Buscar el elemento del captcha por su tag y atributos característicos\n",
    "# Típicamente el captcha está en un span con estilo de color rojo y tamaño grande\n",
    "captcha_element = soup.find('span', {'style': 'color: red; font-size:xxx-large'})\n",
    "if captcha_element:\n",
    "    print(\"Captcha encontrado:\", captcha_element.text)\n",
    "else:\n",
    "    print(\"Captcha no encontrado\")\n"
   ]
  },
  {
   "cell_type": "code",
   "execution_count": 20,
   "metadata": {},
   "outputs": [],
   "source": [
    "# Encontrar el campo de entrada del captcha por su ID\n",
    "captcha_input = driver.find_element(By.ID, \"captchaInput\")\n",
    "\n",
    "# Ingresar el texto del captcha\n",
    "captcha_input.send_keys(captcha_element.text)"
   ]
  },
  {
   "cell_type": "code",
   "execution_count": 21,
   "metadata": {},
   "outputs": [],
   "source": [
    "# Click en el botón \"Verificar\" usando By.ID\n",
    "driver.find_element(By.ID, \"entrar\").click()"
   ]
  },
  {
   "cell_type": "code",
   "execution_count": 28,
   "metadata": {},
   "outputs": [],
   "source": [
    "driver.switch_to.frame(\"contenedor\")  # Asegúrate de usar el ID o nombre correcto"
   ]
  },
  {
   "cell_type": "code",
   "execution_count": 29,
   "metadata": {},
   "outputs": [],
   "source": [
    "driver.find_element(By.ID, \"export101\").click()"
   ]
  },
  {
   "cell_type": "code",
   "execution_count": 30,
   "metadata": {},
   "outputs": [],
   "source": [
    "driver.quit()"
   ]
  },
  {
   "cell_type": "markdown",
   "metadata": {},
   "source": [
    "# D. Automatizar"
   ]
  },
  {
   "cell_type": "code",
   "execution_count": null,
   "metadata": {},
   "outputs": [],
   "source": [
    "# leer ./results/urls.txt\n",
    "with open('./results/urls.txt', 'r') as f:\n",
    "    urls = f.readlines()\n",
    "\n",
    "urls = [url.strip() for url in urls[:3]]\n",
    "urls"
   ]
  }
 ],
 "metadata": {
  "kernelspec": {
   "display_name": "venv_scrapping",
   "language": "python",
   "name": "python3"
  },
  "language_info": {
   "codemirror_mode": {
    "name": "ipython",
    "version": 3
   },
   "file_extension": ".py",
   "mimetype": "text/x-python",
   "name": "python",
   "nbconvert_exporter": "python",
   "pygments_lexer": "ipython3",
   "version": "3.13.2"
  }
 },
 "nbformat": 4,
 "nbformat_minor": 2
}
