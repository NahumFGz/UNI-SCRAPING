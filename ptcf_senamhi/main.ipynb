{
 "cells": [
  {
   "cell_type": "markdown",
   "metadata": {},
   "source": [
    "# A. Librerias y rutas"
   ]
  },
  {
   "cell_type": "code",
   "execution_count": 1,
   "metadata": {},
   "outputs": [],
   "source": [
    "import os\n",
    "import time\n",
    "import json\n",
    "import platform\n",
    "from PIL import Image\n",
    "import matplotlib.pyplot as plt\n",
    "import pytesseract\n",
    "\n",
    "from browsermobproxy import Server\n",
    "\n",
    "#from seleniumwire import webdriver\n",
    "from selenium import webdriver\n",
    "from selenium.webdriver.common.by import By\n",
    "from selenium.webdriver.chrome.service import Service\n",
    "from selenium.webdriver.support.ui import WebDriverWait\n",
    "from selenium.webdriver.support import expected_conditions as EC\n",
    "\n",
    "from dotenv import load_dotenv\n",
    "\n",
    "load_dotenv()\n",
    "SENAMHI_USER = os.getenv('SENAMHI_USER')\n",
    "SENAMHI_PASSWORD = os.getenv('SENAMHI_PASSWORD')"
   ]
  },
  {
   "cell_type": "code",
   "execution_count": 2,
   "metadata": {},
   "outputs": [
    {
     "name": "stdout",
     "output_type": "stream",
     "text": [
      "ESTAMOS EN --->  darwin\n",
      "CHROME_DRIVER_PATH:  /Volumes/Projects/GitHubProjects/UNI-SCRAPING/chromedriver/darwin/chromedriver\n",
      "BROWSERMOB_PATH:  /Volumes/Projects/GitHubProjects/UNI-SCRAPING/browsermob-proxy-2.1.4/bin/browsermob-proxy\n",
      "\n"
     ]
    }
   ],
   "source": [
    "# 1. Definir rutas y sistema operativo\n",
    "os_platform = platform.system().lower()\n",
    "\n",
    "# Definir la carpeta de descargas para los archivos JSON\n",
    "LOG_FILE_PATH = os.path.join(\"./scraping_log.txt\")\n",
    "\n",
    "# 2. Configurar rutas del proyecto según el sistema operativo\n",
    "if os_platform == \"darwin\":\n",
    "    BASE_PATH = \"/Volumes/Projects/GitHubProjects/UNI-SCRAPING\"\n",
    "    CHROMEDRIVER_BASE_PATH = os.path.join(BASE_PATH, \"chromedriver\")\n",
    "    BROWSERMOB_BASE_PATH = os.path.join(BASE_PATH, \"browsermob-proxy-2.1.4\")\n",
    "elif os_platform == \"linux\":\n",
    "    BASE_PATH = \"/home/brew_test_gcp_01/Desktop/WallyScraper\"\n",
    "    CHROMEDRIVER_BASE_PATH = os.path.join(BASE_PATH, \"chromedriver\")\n",
    "    BROWSERMOB_BASE_PATH = os.path.join(BASE_PATH, \"browsermob-proxy-2.1.4\")\n",
    "elif os_platform == \"windows\":\n",
    "    BASE_PATH = \"D:\\\\GithubProjects\\\\Tesis\\\\Transparencia\"\n",
    "    CHROMEDRIVER_BASE_PATH = os.path.join(BASE_PATH, \"chromedriver\")\n",
    "    BROWSERMOB_BASE_PATH = os.path.join(BASE_PATH, \"browsermob-proxy-2.1.4\")\n",
    "\n",
    "if os_platform == \"darwin\":\n",
    "    CHROMEDRIVER_PATH = os.path.join(CHROMEDRIVER_BASE_PATH, \"darwin\", \"chromedriver\")\n",
    "    BROWSERMOB_PATH = os.path.join(BROWSERMOB_BASE_PATH, \"bin\", \"browsermob-proxy\")\n",
    "elif os_platform == \"linux\":\n",
    "    CHROMEDRIVER_PATH = os.path.join(CHROMEDRIVER_BASE_PATH, \"linux\", \"chromedriver\")\n",
    "    BROWSERMOB_PATH = os.path.join(BROWSERMOB_BASE_PATH, \"bin\", \"browsermob-proxy\")\n",
    "elif os_platform == \"windows\":\n",
    "    CHROMEDRIVER_PATH = os.path.join(CHROMEDRIVER_BASE_PATH, \"windows\", \"chromedriver.exe\")\n",
    "    BROWSERMOB_PATH = os.path.join(BROWSERMOB_BASE_PATH, \"bin\", \"browsermob-proxy.bat\")\n",
    "\n",
    "\n",
    "# 3. Imprimir variables\n",
    "print(\"ESTAMOS EN ---> \", os_platform)\n",
    "print(\"CHROME_DRIVER_PATH: \", CHROMEDRIVER_PATH)\n",
    "print(\"BROWSERMOB_PATH: \", BROWSERMOB_PATH)\n",
    "print(\"\")"
   ]
  },
  {
   "cell_type": "markdown",
   "metadata": {},
   "source": [
    "# B. Funciones"
   ]
  },
  {
   "cell_type": "code",
   "execution_count": 3,
   "metadata": {},
   "outputs": [],
   "source": [
    "def get_chrome_driver(chromedriver_path=None, print_view=False, headless=False):\n",
    "    # Iniciar el servidor proxy\n",
    "    print(f\"Iniciando servidor proxy en {os_platform}\")\n",
    "    server = Server(BROWSERMOB_PATH)\n",
    "    server.start()\n",
    "    proxy = server.create_proxy(params={'trustAllServers': 'true'})\n",
    "    \n",
    "    # Configurar las opciones de Selenium\n",
    "    options = webdriver.ChromeOptions()\n",
    "    options.add_argument(\"--no-sandbox\")\n",
    "    options.add_argument(\"--start-maximized\")\n",
    "    options.add_argument(\"--disable-dev-shm-usage\")\n",
    "    options.add_argument(\"--ignore-certificate-errors\")\n",
    "    options.add_argument(\"--proxy-server={0}\".format(proxy.proxy))\n",
    "\n",
    "    if print_view:\n",
    "        options.add_argument('--disable-print-preview')\n",
    "    \n",
    "    if headless:\n",
    "        options.add_argument(\"--headless=new\")\n",
    "\n",
    "    service = Service(executable_path=chromedriver_path)\n",
    "    driver = webdriver.Chrome(service=service, options=options)\n",
    "\n",
    "    return driver, server, proxy"
   ]
  },
  {
   "cell_type": "code",
   "execution_count": 4,
   "metadata": {},
   "outputs": [],
   "source": [
    "def stop_dependencies(driver, server, proxy):\n",
    "    driver.quit()\n",
    "    server.stop()\n",
    "    proxy.close()"
   ]
  },
  {
   "cell_type": "code",
   "execution_count": 5,
   "metadata": {},
   "outputs": [],
   "source": [
    "def start_har(proxy):\n",
    "    options = {\n",
    "        'captureHeaders': True, \n",
    "        'captureContent': True, \n",
    "        'captureBinaryContent': True, \n",
    "        'captureCookies': True, \n",
    "        'captureHeadersSize': -1, \n",
    "        'captureMaxSize': -1, \n",
    "        'captureBinaryContentMaxLength': -1 \n",
    "    }\n",
    "    proxy.new_har(\"wally\", options=options)"
   ]
  },
  {
   "cell_type": "markdown",
   "metadata": {},
   "source": [
    "# C. Probar"
   ]
  },
  {
   "cell_type": "markdown",
   "metadata": {},
   "source": [
    "## 1. Ingresar a la web"
   ]
  },
  {
   "cell_type": "code",
   "execution_count": 6,
   "metadata": {},
   "outputs": [
    {
     "data": {
      "text/plain": [
       "['https://www.senamhi.gob.pe/site/descarga-datos/descarga/?cod=152204',\n",
       " 'https://www.senamhi.gob.pe/site/descarga-datos/descarga/?cod=152210',\n",
       " 'https://www.senamhi.gob.pe/site/descarga-datos/descarga/?cod=155105']"
      ]
     },
     "execution_count": 6,
     "metadata": {},
     "output_type": "execute_result"
    }
   ],
   "source": [
    "# leer ./results/urls.txt\n",
    "with open('./results/urls.txt', 'r') as f:\n",
    "    urls = f.readlines()\n",
    "\n",
    "urls = [url.strip() for url in urls[:3]]\n",
    "urls"
   ]
  },
  {
   "cell_type": "code",
   "execution_count": 7,
   "metadata": {},
   "outputs": [
    {
     "name": "stdout",
     "output_type": "stream",
     "text": [
      "Iniciando servidor proxy en darwin\n"
     ]
    }
   ],
   "source": [
    "driver, server, proxy = get_chrome_driver(chromedriver_path=CHROMEDRIVER_PATH, print_view=False, headless=False)"
   ]
  },
  {
   "cell_type": "code",
   "execution_count": 8,
   "metadata": {},
   "outputs": [],
   "source": [
    "driver.get(urls[0])"
   ]
  },
  {
   "cell_type": "code",
   "execution_count": 9,
   "metadata": {},
   "outputs": [],
   "source": [
    "start_har(proxy)"
   ]
  },
  {
   "cell_type": "markdown",
   "metadata": {},
   "source": [
    "## 2. Iniciar sesión"
   ]
  },
  {
   "cell_type": "code",
   "execution_count": 10,
   "metadata": {},
   "outputs": [],
   "source": [
    "# Encontrar y hacer clic en el enlace de ingreso\n",
    "login_link = driver.find_element(By.CSS_SELECTOR, 'li a[href=\"?p=login\"]')\n",
    "login_link.click()"
   ]
  },
  {
   "cell_type": "code",
   "execution_count": 11,
   "metadata": {},
   "outputs": [],
   "source": [
    "# Encontrar los campos de entrada de correo y contraseña\n",
    "email_input = driver.find_element(By.CSS_SELECTOR, 'input#mail')\n",
    "password_input = driver.find_element(By.CSS_SELECTOR, 'input#pass')\n",
    "\n",
    "# Ingresar credenciales desde variables de entorno\n",
    "email_input.send_keys(os.getenv('SENAMHI_USER'))\n",
    "password_input.send_keys(os.getenv('SENAMHI_PASSWORD'))"
   ]
  },
  {
   "cell_type": "code",
   "execution_count": 12,
   "metadata": {},
   "outputs": [],
   "source": [
    "# Guardar el har\n",
    "time.sleep(2)\n",
    "har = proxy.har\n",
    "\n",
    "with open('./results/har.json', 'w') as f:\n",
    "    json.dump(har, f, indent=4)"
   ]
  },
  {
   "cell_type": "markdown",
   "metadata": {},
   "source": [
    "## 3. Resolver captcha de inicio de sesión"
   ]
  },
  {
   "cell_type": "code",
   "execution_count": 13,
   "metadata": {},
   "outputs": [
    {
     "name": "stdout",
     "output_type": "stream",
     "text": [
      "URL del CAPTCHA encontrado en Selenium: https://www.senamhi.gob.pe/site/descarga-datos/include/captcha/graf_gd_genera_captcha.php?size=little\n"
     ]
    },
    {
     "data": {
      "image/png": "[encoded data removed]",
      "text/plain": [
       "<Figure size 200x200 with 1 Axes>"
      ]
     },
     "metadata": {},
     "output_type": "display_data"
    }
   ],
   "source": [
    "# Esperar que el CAPTCHA se cargue completamente\n",
    "time.sleep(2)\n",
    "\n",
    "# Buscar el elemento <img> que contiene el CAPTCHA en la página de Selenium\n",
    "captcha_element = driver.find_element(By.TAG_NAME, \"img\")\n",
    "\n",
    "# Obtener la URL exacta del CAPTCHA\n",
    "captcha_url = captcha_element.get_attribute(\"src\")\n",
    "print(f\"URL del CAPTCHA encontrado en Selenium: {captcha_url}\")\n",
    "\n",
    "# Tomar una captura de solo el CAPTCHA y guardarlo\n",
    "captcha_element.screenshot(\"results/captcha_selenium.png\")\n",
    "\n",
    "# Mostrar la imagen del CAPTCHA en Jupyter Notebook\n",
    "captcha_image = Image.open(\"results/captcha_selenium.png\")\n",
    "\n",
    "# Usar Matplotlib para visualizarlo en la celda\n",
    "plt.figure(figsize=(2, 2))\n",
    "plt.imshow(captcha_image, cmap=\"gray\")\n",
    "plt.axis(\"off\")\n",
    "plt.show()\n",
    "\n"
   ]
  },
  {
   "cell_type": "code",
   "execution_count": 14,
   "metadata": {},
   "outputs": [
    {
     "name": "stdout",
     "output_type": "stream",
     "text": [
      "Texto detectado en el CAPTCHA: 9a35f\n",
      "\n"
     ]
    }
   ],
   "source": [
    "# Cargar la imagen del captcha\n",
    "captcha_image = Image.open(\"results/captcha_selenium.png\")\n",
    "\n",
    "# Usar pytesseract para convertir la imagen a texto\n",
    "captcha_text = pytesseract.image_to_string(captcha_image)\n",
    "\n",
    "print(f\"Texto detectado en el CAPTCHA: {captcha_text}\")"
   ]
  },
  {
   "cell_type": "code",
   "execution_count": 15,
   "metadata": {},
   "outputs": [],
   "source": [
    "# Encontrar el campo de entrada del captcha\n",
    "captcha_input = driver.find_element(By.CSS_SELECTOR, 'input#captcha')\n",
    "\n",
    "# Limpiar cualquier texto existente y escribir el captcha detectado\n",
    "captcha_input.clear()\n",
    "captcha_input.send_keys(captcha_text.strip())\n",
    "\n",
    "# Encontrar y hacer clic en el botón de inicio de sesión\n",
    "login_button = driver.find_element(By.CSS_SELECTOR, 'input#envio[name=\"btnLogin\"]')\n",
    "login_button.click()\n",
    "\n",
    "# Esperar un momento para que se procese el inicio de sesión\n",
    "time.sleep(2)"
   ]
  },
  {
   "cell_type": "markdown",
   "metadata": {},
   "source": [
    "## 4. Descargar"
   ]
  },
  {
   "cell_type": "code",
   "execution_count": 55,
   "metadata": {},
   "outputs": [
    {
     "name": "stdout",
     "output_type": "stream",
     "text": [
      "URL del CAPTCHA encontrado en Selenium: https://www.senamhi.gob.pe/site/descarga-datos/include/captcha/graf_gd_genera_captcha.php?size=little\n"
     ]
    },
    {
     "data": {
      "image/png": "[encoded data removed]",
      "text/plain": [
       "<Figure size 200x200 with 1 Axes>"
      ]
     },
     "metadata": {},
     "output_type": "display_data"
    }
   ],
   "source": [
    "# Esperar que el CAPTCHA se cargue completamente\n",
    "time.sleep(0.2)\n",
    "\n",
    "# Buscar el elemento <img> que contiene el CAPTCHA en la página de Selenium\n",
    "captcha_element = driver.find_element(By.TAG_NAME, \"img\")\n",
    "\n",
    "# Obtener la URL exacta del CAPTCHA\n",
    "captcha_url = captcha_element.get_attribute(\"src\")\n",
    "print(f\"URL del CAPTCHA encontrado en Selenium: {captcha_url}\")\n",
    "\n",
    "# Tomar una captura de solo el CAPTCHA y guardarlo\n",
    "captcha_element.screenshot(\"results/captcha_selenium.png\")\n",
    "\n",
    "# Mostrar la imagen del CAPTCHA en Jupyter Notebook\n",
    "captcha_image = Image.open(\"results/captcha_selenium.png\")\n",
    "\n",
    "# Usar Matplotlib para visualizarlo en la celda\n",
    "plt.figure(figsize=(2, 2))\n",
    "plt.imshow(captcha_image, cmap=\"gray\")\n",
    "plt.axis(\"off\")\n",
    "plt.show()\n"
   ]
  },
  {
   "cell_type": "code",
   "execution_count": 56,
   "metadata": {},
   "outputs": [
    {
     "name": "stdout",
     "output_type": "stream",
     "text": [
      "Texto detectado en el CAPTCHA: 31RaL\n",
      "\n"
     ]
    }
   ],
   "source": [
    "# Cargar la imagen del captcha\n",
    "captcha_image = Image.open(\"results/captcha_selenium.png\")\n",
    "\n",
    "# Usar pytesseract para convertir la imagen a texto\n",
    "captcha_text = pytesseract.image_to_string(captcha_image)\n",
    "\n",
    "print(f\"Texto detectado en el CAPTCHA: {captcha_text}\")"
   ]
  },
  {
   "cell_type": "code",
   "execution_count": 54,
   "metadata": {},
   "outputs": [],
   "source": [
    "# Actualizar la página\n",
    "#driver.refresh()"
   ]
  },
  {
   "cell_type": "code",
   "execution_count": 57,
   "metadata": {},
   "outputs": [],
   "source": [
    "# Limpiar el campo de captcha por si hay un error previo\n",
    "captcha_input = driver.find_element(By.ID, \"captcha\")\n",
    "captcha_input.clear()"
   ]
  },
  {
   "cell_type": "code",
   "execution_count": 58,
   "metadata": {},
   "outputs": [],
   "source": [
    "# Ingresar el nuevo captcha en el campo de texto\n",
    "captcha_input.send_keys(captcha_text)"
   ]
  },
  {
   "cell_type": "code",
   "execution_count": 59,
   "metadata": {},
   "outputs": [],
   "source": [
    "# Hacer clic en el checkbox de términos y condiciones\n",
    "terms_checkbox = driver.find_element(By.ID, \"aceptar\") \n",
    "terms_checkbox.click()"
   ]
  },
  {
   "cell_type": "code",
   "execution_count": 60,
   "metadata": {},
   "outputs": [],
   "source": [
    "# Hacer clic en el botón de descargar\n",
    "download_button = driver.find_element(By.ID, \"envio\")\n",
    "download_button.click()"
   ]
  },
  {
   "cell_type": "code",
   "execution_count": 34,
   "metadata": {},
   "outputs": [],
   "source": [
    "stop_dependencies(driver, server, proxy)"
   ]
  }
 ],
 "metadata": {
  "kernelspec": {
   "display_name": "venv_scrapping",
   "language": "python",
   "name": "python3"
  },
  "language_info": {
   "codemirror_mode": {
    "name": "ipython",
    "version": 3
   },
   "file_extension": ".py",
   "mimetype": "text/x-python",
   "name": "python",
   "nbconvert_exporter": "python",
   "pygments_lexer": "ipython3",
   "version": "3.13.2"
  }
 },
 "nbformat": 4,
 "nbformat_minor": 2
}
