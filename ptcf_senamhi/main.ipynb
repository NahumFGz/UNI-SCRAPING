{
 "cells": [
  {
   "cell_type": "markdown",
   "metadata": {},
   "source": [
    "# A. Librerias y rutas"
   ]
  },
  {
   "cell_type": "code",
   "execution_count": 3,
   "metadata": {},
   "outputs": [],
   "source": [
    "import datetime\n",
    "import pandas as pd\n",
    "import os\n",
    "import time\n",
    "import json\n",
    "import wget\n",
    "import zipfile\n",
    "import requests\n",
    "import platform\n",
    "\n",
    "import datetime\n",
    "import pandas as pd\n",
    "from browsermobproxy import Server\n",
    "\n",
    "from selenium import webdriver\n",
    "from selenium.webdriver.common.by import By\n",
    "from selenium.webdriver.chrome.service import Service\n",
    "from selenium.webdriver.support.ui import WebDriverWait\n",
    "from webdriver_manager.chrome import ChromeDriverManager\n",
    "from selenium.webdriver.support import expected_conditions as EC"
   ]
  },
  {
   "cell_type": "code",
   "execution_count": 5,
   "metadata": {},
   "outputs": [
    {
     "name": "stdout",
     "output_type": "stream",
     "text": [
      "ESTAMOS EN --->  darwin\n",
      "CHROME_DRIVER_PATH:  /Volumes/Projects/GitHubProjects/UNI-SCRAPING/chromedriver/darwin/chromedriver\n",
      "BROWSERMOB_PATH:  /Volumes/Projects/GitHubProjects/UNI-SCRAPING/browsermob-proxy-2.1.4/bin/browsermob-proxy\n",
      "\n"
     ]
    }
   ],
   "source": [
    "# 1. Definir rutas y sistema operativo\n",
    "os_platform = platform.system().lower()\n",
    "\n",
    "# Definir la carpeta de descargas para los archivos JSON\n",
    "LOG_FILE_PATH = os.path.join(\"./scraping_log.txt\")\n",
    "\n",
    "# 2. Configurar rutas del proyecto según el sistema operativo\n",
    "if os_platform == \"darwin\":\n",
    "    BASE_PATH = \"/Volumes/Projects/GitHubProjects/UNI-SCRAPING\"\n",
    "    CHROMEDRIVER_BASE_PATH = os.path.join(BASE_PATH, \"chromedriver\")\n",
    "    BROWSERMOB_BASE_PATH = os.path.join(BASE_PATH, \"browsermob-proxy-2.1.4\")\n",
    "elif os_platform == \"linux\":\n",
    "    BASE_PATH = \"/home/brew_test_gcp_01/Desktop/WallyScraper\"\n",
    "    CHROMEDRIVER_BASE_PATH = os.path.join(BASE_PATH, \"chromedriver\")\n",
    "    BROWSERMOB_BASE_PATH = os.path.join(BASE_PATH, \"browsermob-proxy-2.1.4\")\n",
    "elif os_platform == \"windows\":\n",
    "    BASE_PATH = \"D:\\\\GithubProjects\\\\Tesis\\\\Transparencia\"\n",
    "    CHROMEDRIVER_BASE_PATH = os.path.join(BASE_PATH, \"chromedriver\")\n",
    "    BROWSERMOB_BASE_PATH = os.path.join(BASE_PATH, \"browsermob-proxy-2.1.4\")\n",
    "\n",
    "if os_platform == \"darwin\":\n",
    "    CHROMEDRIVER_PATH = os.path.join(CHROMEDRIVER_BASE_PATH, \"darwin\", \"chromedriver\")\n",
    "    BROWSERMOB_PATH = os.path.join(BROWSERMOB_BASE_PATH, \"bin\", \"browsermob-proxy\")\n",
    "elif os_platform == \"linux\":\n",
    "    CHROMEDRIVER_PATH = os.path.join(CHROMEDRIVER_BASE_PATH, \"linux\", \"chromedriver\")\n",
    "    BROWSERMOB_PATH = os.path.join(BROWSERMOB_BASE_PATH, \"bin\", \"browsermob-proxy\")\n",
    "elif os_platform == \"windows\":\n",
    "    CHROMEDRIVER_PATH = os.path.join(CHROMEDRIVER_BASE_PATH, \"windows\", \"chromedriver.exe\")\n",
    "    BROWSERMOB_PATH = os.path.join(BROWSERMOB_BASE_PATH, \"bin\", \"browsermob-proxy.bat\")\n",
    "\n",
    "\n",
    "# 3. Imprimir variables\n",
    "print(\"ESTAMOS EN ---> \", os_platform)\n",
    "print(\"CHROME_DRIVER_PATH: \", CHROMEDRIVER_PATH)\n",
    "print(\"BROWSERMOB_PATH: \", BROWSERMOB_PATH)\n",
    "print(\"\")"
   ]
  },
  {
   "cell_type": "markdown",
   "metadata": {},
   "source": [
    "# B. Funciones"
   ]
  },
  {
   "cell_type": "code",
   "execution_count": null,
   "metadata": {},
   "outputs": [],
   "source": []
  }
 ],
 "metadata": {
  "kernelspec": {
   "display_name": "venv_scrapping",
   "language": "python",
   "name": "python3"
  },
  "language_info": {
   "codemirror_mode": {
    "name": "ipython",
    "version": 3
   },
   "file_extension": ".py",
   "mimetype": "text/x-python",
   "name": "python",
   "nbconvert_exporter": "python",
   "pygments_lexer": "ipython3",
   "version": "3.13.1"
  }
 },
 "nbformat": 4,
 "nbformat_minor": 2
}
