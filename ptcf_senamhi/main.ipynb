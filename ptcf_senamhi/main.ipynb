{
 "cells": [
  {
   "cell_type": "markdown",
   "metadata": {},
   "source": [
    "# A. Librerias y rutas"
   ]
  },
  {
   "cell_type": "code",
   "execution_count": 3,
   "metadata": {},
   "outputs": [],
   "source": [
    "import requests\n",
    "from PIL import Image\n",
    "from io import BytesIO\n",
    "\n",
    "# URL del captcha\n",
    "url = \"https://www.senamhi.gob.pe/site/descarga-datos/include/captcha/graf_gd_genera_captcha.php?size=little\"\n",
    "\n",
    "# Hacer la solicitud a la URL\n",
    "response = requests.get(url)\n",
    "\n",
    "# Verificar si la respuesta es correcta\n",
    "if response.status_code == 200:\n",
    "    # Convertir los bytes en una imagen\n",
    "    image = Image.open(BytesIO(response.content))\n",
    "    # Mostrar la imagen\n",
    "    image.show()\n",
    "else:\n",
    "    print(\"Error al obtener la imagen:\", response.status_code)\n"
   ]
  },
  {
   "cell_type": "code",
   "execution_count": null,
   "metadata": {},
   "outputs": [],
   "source": []
  },
  {
   "cell_type": "code",
   "execution_count": null,
   "metadata": {},
   "outputs": [],
   "source": []
  }
 ],
 "metadata": {
  "kernelspec": {
   "display_name": "venv_scrapping",
   "language": "python",
   "name": "python3"
  },
  "language_info": {
   "codemirror_mode": {
    "name": "ipython",
    "version": 3
   },
   "file_extension": ".py",
   "mimetype": "text/x-python",
   "name": "python",
   "nbconvert_exporter": "python",
   "pygments_lexer": "ipython3",
   "version": "3.13.1"
  }
 },
 "nbformat": 4,
 "nbformat_minor": 2
}
